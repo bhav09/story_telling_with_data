{
  "nbformat": 4,
  "nbformat_minor": 0,
  "metadata": {
    "colab": {
      "name": "SocialMediaInfluencer",
      "provenance": [],
      "collapsed_sections": []
    },
    "kernelspec": {
      "name": "python3",
      "display_name": "Python 3"
    }
  },
  "cells": [
    {
      "cell_type": "code",
      "metadata": {
        "id": "QZQwtBMQEirq",
        "colab_type": "code",
        "colab": {}
      },
      "source": [
        "import pandas as pd\n",
        "import numpy as np"
      ],
      "execution_count": 1,
      "outputs": []
    },
    {
      "cell_type": "code",
      "metadata": {
        "id": "lzk4CW0MEn8D",
        "colab_type": "code",
        "colab": {}
      },
      "source": [
        "df=pd.read_csv('/content/drive/My Drive/Colab Notebooks/Social Media Influencer/train.csv')"
      ],
      "execution_count": 2,
      "outputs": []
    },
    {
      "cell_type": "code",
      "metadata": {
        "id": "XotCP0fnLYXK",
        "colab_type": "code",
        "colab": {
          "base_uri": "https://localhost:8080/",
          "height": 420
        },
        "outputId": "ca332610-bdcb-48e2-c2d6-bcc35c7addc0"
      },
      "source": [
        "df.isnull().sum() #no missing values ;)"
      ],
      "execution_count": 46,
      "outputs": [
        {
          "output_type": "execute_result",
          "data": {
            "text/plain": [
              "Choice                 0\n",
              "A_follower_count       0\n",
              "A_following_count      0\n",
              "A_listed_count         0\n",
              "A_mentions_received    0\n",
              "A_retweets_received    0\n",
              "A_mentions_sent        0\n",
              "A_retweets_sent        0\n",
              "A_posts                0\n",
              "A_network_feature_1    0\n",
              "A_network_feature_2    0\n",
              "A_network_feature_3    0\n",
              "B_follower_count       0\n",
              "B_following_count      0\n",
              "B_listed_count         0\n",
              "B_mentions_received    0\n",
              "B_retweets_received    0\n",
              "B_mentions_sent        0\n",
              "B_retweets_sent        0\n",
              "B_posts                0\n",
              "B_network_feature_1    0\n",
              "B_network_feature_2    0\n",
              "B_network_feature_3    0\n",
              "dtype: int64"
            ]
          },
          "metadata": {
            "tags": []
          },
          "execution_count": 46
        }
      ]
    },
    {
      "cell_type": "code",
      "metadata": {
        "id": "eUnqQ7mkEn4r",
        "colab_type": "code",
        "colab": {
          "base_uri": "https://localhost:8080/",
          "height": 215
        },
        "outputId": "9ee20541-65f5-4d0d-e7d6-813703c9ef11"
      },
      "source": [
        "df.head()"
      ],
      "execution_count": 3,
      "outputs": [
        {
          "output_type": "execute_result",
          "data": {
            "text/html": [
              "<div>\n",
              "<style scoped>\n",
              "    .dataframe tbody tr th:only-of-type {\n",
              "        vertical-align: middle;\n",
              "    }\n",
              "\n",
              "    .dataframe tbody tr th {\n",
              "        vertical-align: top;\n",
              "    }\n",
              "\n",
              "    .dataframe thead th {\n",
              "        text-align: right;\n",
              "    }\n",
              "</style>\n",
              "<table border=\"1\" class=\"dataframe\">\n",
              "  <thead>\n",
              "    <tr style=\"text-align: right;\">\n",
              "      <th></th>\n",
              "      <th>Choice</th>\n",
              "      <th>A_follower_count</th>\n",
              "      <th>A_following_count</th>\n",
              "      <th>A_listed_count</th>\n",
              "      <th>A_mentions_received</th>\n",
              "      <th>A_retweets_received</th>\n",
              "      <th>A_mentions_sent</th>\n",
              "      <th>A_retweets_sent</th>\n",
              "      <th>A_posts</th>\n",
              "      <th>A_network_feature_1</th>\n",
              "      <th>A_network_feature_2</th>\n",
              "      <th>A_network_feature_3</th>\n",
              "      <th>B_follower_count</th>\n",
              "      <th>B_following_count</th>\n",
              "      <th>B_listed_count</th>\n",
              "      <th>B_mentions_received</th>\n",
              "      <th>B_retweets_received</th>\n",
              "      <th>B_mentions_sent</th>\n",
              "      <th>B_retweets_sent</th>\n",
              "      <th>B_posts</th>\n",
              "      <th>B_network_feature_1</th>\n",
              "      <th>B_network_feature_2</th>\n",
              "      <th>B_network_feature_3</th>\n",
              "    </tr>\n",
              "  </thead>\n",
              "  <tbody>\n",
              "    <tr>\n",
              "      <th>0</th>\n",
              "      <td>0</td>\n",
              "      <td>228</td>\n",
              "      <td>302</td>\n",
              "      <td>3</td>\n",
              "      <td>0.583979</td>\n",
              "      <td>0.100503</td>\n",
              "      <td>0.100503</td>\n",
              "      <td>0.100503</td>\n",
              "      <td>0.362150</td>\n",
              "      <td>2</td>\n",
              "      <td>166.500000</td>\n",
              "      <td>11355.000000</td>\n",
              "      <td>34463</td>\n",
              "      <td>29808</td>\n",
              "      <td>1689</td>\n",
              "      <td>15.430498</td>\n",
              "      <td>3.984029</td>\n",
              "      <td>8.204331</td>\n",
              "      <td>0.332423</td>\n",
              "      <td>6.988815</td>\n",
              "      <td>66</td>\n",
              "      <td>75.530303</td>\n",
              "      <td>1916.893939</td>\n",
              "    </tr>\n",
              "    <tr>\n",
              "      <th>1</th>\n",
              "      <td>0</td>\n",
              "      <td>21591</td>\n",
              "      <td>1179</td>\n",
              "      <td>228</td>\n",
              "      <td>90.456506</td>\n",
              "      <td>25.798292</td>\n",
              "      <td>5.709329</td>\n",
              "      <td>1.111159</td>\n",
              "      <td>5.176620</td>\n",
              "      <td>369</td>\n",
              "      <td>18.442971</td>\n",
              "      <td>1330.366048</td>\n",
              "      <td>39262</td>\n",
              "      <td>848</td>\n",
              "      <td>1610</td>\n",
              "      <td>40.495021</td>\n",
              "      <td>8.943607</td>\n",
              "      <td>3.227677</td>\n",
              "      <td>0.564343</td>\n",
              "      <td>1.070321</td>\n",
              "      <td>163</td>\n",
              "      <td>132.030675</td>\n",
              "      <td>2931.515337</td>\n",
              "    </tr>\n",
              "    <tr>\n",
              "      <th>2</th>\n",
              "      <td>0</td>\n",
              "      <td>7310</td>\n",
              "      <td>1215</td>\n",
              "      <td>101</td>\n",
              "      <td>25.503644</td>\n",
              "      <td>9.556347</td>\n",
              "      <td>5.361519</td>\n",
              "      <td>0.591206</td>\n",
              "      <td>3.589718</td>\n",
              "      <td>95</td>\n",
              "      <td>68.927835</td>\n",
              "      <td>5999.896907</td>\n",
              "      <td>3622</td>\n",
              "      <td>482</td>\n",
              "      <td>206</td>\n",
              "      <td>0.734696</td>\n",
              "      <td>0.354379</td>\n",
              "      <td>0.603202</td>\n",
              "      <td>0.100503</td>\n",
              "      <td>0.603202</td>\n",
              "      <td>3</td>\n",
              "      <td>10.333333</td>\n",
              "      <td>277.333333</td>\n",
              "    </tr>\n",
              "    <tr>\n",
              "      <th>3</th>\n",
              "      <td>0</td>\n",
              "      <td>20</td>\n",
              "      <td>7</td>\n",
              "      <td>2</td>\n",
              "      <td>7.690824</td>\n",
              "      <td>0.277306</td>\n",
              "      <td>1.331508</td>\n",
              "      <td>0.100503</td>\n",
              "      <td>2.830627</td>\n",
              "      <td>6</td>\n",
              "      <td>2.000000</td>\n",
              "      <td>96.166667</td>\n",
              "      <td>19562</td>\n",
              "      <td>17637</td>\n",
              "      <td>278</td>\n",
              "      <td>572.874856</td>\n",
              "      <td>390.293681</td>\n",
              "      <td>27.552040</td>\n",
              "      <td>7.167557</td>\n",
              "      <td>32.101906</td>\n",
              "      <td>1762</td>\n",
              "      <td>23.469296</td>\n",
              "      <td>1395.845634</td>\n",
              "    </tr>\n",
              "    <tr>\n",
              "      <th>4</th>\n",
              "      <td>1</td>\n",
              "      <td>45589</td>\n",
              "      <td>862</td>\n",
              "      <td>2641</td>\n",
              "      <td>148.854279</td>\n",
              "      <td>36.998884</td>\n",
              "      <td>27.881768</td>\n",
              "      <td>3.333492</td>\n",
              "      <td>23.861282</td>\n",
              "      <td>551</td>\n",
              "      <td>127.404293</td>\n",
              "      <td>2833.847943</td>\n",
              "      <td>7554</td>\n",
              "      <td>1711</td>\n",
              "      <td>181</td>\n",
              "      <td>21.601866</td>\n",
              "      <td>3.581661</td>\n",
              "      <td>6.764657</td>\n",
              "      <td>1.119727</td>\n",
              "      <td>4.563246</td>\n",
              "      <td>85</td>\n",
              "      <td>48.500000</td>\n",
              "      <td>1993.627907</td>\n",
              "    </tr>\n",
              "  </tbody>\n",
              "</table>\n",
              "</div>"
            ],
            "text/plain": [
              "   Choice  A_follower_count  ...  B_network_feature_2  B_network_feature_3\n",
              "0       0               228  ...            75.530303          1916.893939\n",
              "1       0             21591  ...           132.030675          2931.515337\n",
              "2       0              7310  ...            10.333333           277.333333\n",
              "3       0                20  ...            23.469296          1395.845634\n",
              "4       1             45589  ...            48.500000          1993.627907\n",
              "\n",
              "[5 rows x 23 columns]"
            ]
          },
          "metadata": {
            "tags": []
          },
          "execution_count": 3
        }
      ]
    },
    {
      "cell_type": "code",
      "metadata": {
        "id": "13xJk7j-EnuP",
        "colab_type": "code",
        "colab": {
          "base_uri": "https://localhost:8080/",
          "height": 235
        },
        "outputId": "1f23afe1-ec25-40f2-c2f2-5c938c602b1f"
      },
      "source": [
        "y=df.iloc[:,0].values  #dependent variable\n",
        "x=df.iloc[:,1:].values #independent variable"
      ],
      "execution_count": 24,
      "outputs": [
        {
          "output_type": "stream",
          "text": [
            "[[2.28000000e+02 3.02000000e+02 3.00000000e+00 ... 6.60000000e+01\n",
            "  7.55303030e+01 1.91689394e+03]\n",
            " [2.15910000e+04 1.17900000e+03 2.28000000e+02 ... 1.63000000e+02\n",
            "  1.32030675e+02 2.93151534e+03]\n",
            " [7.31000000e+03 1.21500000e+03 1.01000000e+02 ... 3.00000000e+00\n",
            "  1.03333333e+01 2.77333333e+02]\n",
            " ...\n",
            " [1.53850000e+04 6.73000000e+02 7.47000000e+02 ... 8.50000000e+01\n",
            "  4.85000000e+01 1.99362791e+03]\n",
            " [2.65258000e+05 2.09000000e+02 5.51000000e+02 ... 6.96000000e+02\n",
            "  2.34338068e+02 7.16846449e+03]\n",
            " [6.28000000e+02 9.21000000e+02 6.00000000e+00 ... 1.28000000e+03\n",
            "  4.85328185e+01 1.55448958e+03]]\n"
          ],
          "name": "stdout"
        }
      ]
    },
    {
      "cell_type": "code",
      "metadata": {
        "id": "5t76rMaREnq5",
        "colab_type": "code",
        "colab": {
          "base_uri": "https://localhost:8080/",
          "height": 255
        },
        "outputId": "3ae96ea0-dac6-42bc-b0b3-a85d672e6120"
      },
      "source": [
        "#finding out the covariance \n",
        "from scipy.stats import pearsonr\n",
        "covar={}\n",
        "print('Shape of the array',x.shape) #shows 22 cols\n",
        "for i in range(22):\n",
        "  cov,_=pearsonr(x[:,i],y)\n",
        "  #print(float(cov))\n",
        "  #print(type(float(cov)))\n",
        "  if float(cov)>0.10 or float(cov)<-0.10:    #dict of columns that we will be removing\n",
        "    print(cov)\n",
        "    covar.update({i:cov}) #index:covariance \n",
        "print(covar)"
      ],
      "execution_count": 28,
      "outputs": [
        {
          "output_type": "stream",
          "text": [
            "Shape of the array (5500, 22)\n",
            "0.13413264616958456\n",
            "0.13507809556384173\n",
            "0.1238679790619239\n",
            "0.13783282962763987\n",
            "0.10764790658870349\n",
            "-0.16127788824830816\n",
            "-0.19117925748270206\n",
            "-0.1395209992769779\n",
            "-0.16834053126305132\n",
            "-0.10202835527897872\n",
            "-0.10825858338025551\n",
            "{0: 0.13413264616958456, 2: 0.13507809556384173, 5: 0.1238679790619239, 6: 0.13783282962763987, 7: 0.10764790658870349, 11: -0.16127788824830816, 13: -0.19117925748270206, 16: -0.1395209992769779, 17: -0.16834053126305132, 18: -0.10202835527897872, 19: -0.10825858338025551}\n"
          ],
          "name": "stdout"
        }
      ]
    },
    {
      "cell_type": "code",
      "metadata": {
        "id": "ryTZlTwREnoS",
        "colab_type": "code",
        "colab": {
          "base_uri": "https://localhost:8080/",
          "height": 386
        },
        "outputId": "4423772a-a378-4905-a2a1-bafd431b890c"
      },
      "source": [
        "cols_that_Iwant=list(covar.keys())\n",
        "x1=np.zeros((5500,11))\n",
        "print(cols_that_Iwant) #11 cols\n",
        "print(x1)\n",
        "for i in range(len(cols_that_Iwant)):\n",
        "  #print(x[:,cols_that_Iwant[i]])\n",
        "  x1[:,i]=x[:,cols_that_Iwant[i]]\n",
        "print()\n",
        "print(x1)"
      ],
      "execution_count": 49,
      "outputs": [
        {
          "output_type": "stream",
          "text": [
            "[0, 2, 5, 6, 7, 11, 13, 16, 17, 18, 19]\n",
            "[[0. 0. 0. ... 0. 0. 0.]\n",
            " [0. 0. 0. ... 0. 0. 0.]\n",
            " [0. 0. 0. ... 0. 0. 0.]\n",
            " ...\n",
            " [0. 0. 0. ... 0. 0. 0.]\n",
            " [0. 0. 0. ... 0. 0. 0.]\n",
            " [0. 0. 0. ... 0. 0. 0.]]\n",
            "\n",
            "[[2.28000000e+02 3.00000000e+00 1.00503359e-01 ... 3.32423044e-01\n",
            "  6.98881496e+00 6.60000000e+01]\n",
            " [2.15910000e+04 2.28000000e+02 5.70932865e+00 ... 5.64342729e-01\n",
            "  1.07032071e+00 1.63000000e+02]\n",
            " [7.31000000e+03 1.01000000e+02 5.36151928e+00 ... 1.00503359e-01\n",
            "  6.03202317e-01 3.00000000e+00]\n",
            " ...\n",
            " [1.53850000e+04 7.47000000e+02 6.94623325e+00 ... 1.11972670e+00\n",
            "  4.56324632e+00 8.50000000e+01]\n",
            " [2.65258000e+05 5.51000000e+02 5.46098549e+00 ... 1.34507340e+00\n",
            "  4.35986545e+00 6.96000000e+02]\n",
            " [6.28000000e+02 6.00000000e+00 4.76992966e+00 ... 1.04940792e+00\n",
            "  4.80682332e+00 1.28000000e+03]]\n"
          ],
          "name": "stdout"
        }
      ]
    },
    {
      "cell_type": "code",
      "metadata": {
        "id": "F-j8Wv0ZOZ_2",
        "colab_type": "code",
        "colab": {}
      },
      "source": [
        "df_test=pd.read_csv('/content/drive/My Drive/Colab Notebooks/Social Media Influencer/test.csv')"
      ],
      "execution_count": 54,
      "outputs": []
    },
    {
      "cell_type": "code",
      "metadata": {
        "id": "wu0ThUItOkRR",
        "colab_type": "code",
        "colab": {
          "base_uri": "https://localhost:8080/",
          "height": 215
        },
        "outputId": "5a334fb2-f9ee-4d45-dbde-a6a517a48a13"
      },
      "source": [
        "df_test.head()"
      ],
      "execution_count": 55,
      "outputs": [
        {
          "output_type": "execute_result",
          "data": {
            "text/html": [
              "<div>\n",
              "<style scoped>\n",
              "    .dataframe tbody tr th:only-of-type {\n",
              "        vertical-align: middle;\n",
              "    }\n",
              "\n",
              "    .dataframe tbody tr th {\n",
              "        vertical-align: top;\n",
              "    }\n",
              "\n",
              "    .dataframe thead th {\n",
              "        text-align: right;\n",
              "    }\n",
              "</style>\n",
              "<table border=\"1\" class=\"dataframe\">\n",
              "  <thead>\n",
              "    <tr style=\"text-align: right;\">\n",
              "      <th></th>\n",
              "      <th>A_follower_count</th>\n",
              "      <th>A_following_count</th>\n",
              "      <th>A_listed_count</th>\n",
              "      <th>A_mentions_received</th>\n",
              "      <th>A_retweets_received</th>\n",
              "      <th>A_mentions_sent</th>\n",
              "      <th>A_retweets_sent</th>\n",
              "      <th>A_posts</th>\n",
              "      <th>A_network_feature_1</th>\n",
              "      <th>A_network_feature_2</th>\n",
              "      <th>A_network_feature_3</th>\n",
              "      <th>B_follower_count</th>\n",
              "      <th>B_following_count</th>\n",
              "      <th>B_listed_count</th>\n",
              "      <th>B_mentions_received</th>\n",
              "      <th>B_retweets_received</th>\n",
              "      <th>B_mentions_sent</th>\n",
              "      <th>B_retweets_sent</th>\n",
              "      <th>B_posts</th>\n",
              "      <th>B_network_feature_1</th>\n",
              "      <th>B_network_feature_2</th>\n",
              "      <th>B_network_feature_3</th>\n",
              "    </tr>\n",
              "  </thead>\n",
              "  <tbody>\n",
              "    <tr>\n",
              "      <th>0</th>\n",
              "      <td>614689</td>\n",
              "      <td>400</td>\n",
              "      <td>5729</td>\n",
              "      <td>199.618296</td>\n",
              "      <td>67.812469</td>\n",
              "      <td>9.366192</td>\n",
              "      <td>0.359534</td>\n",
              "      <td>4.094488</td>\n",
              "      <td>669</td>\n",
              "      <td>39.193741</td>\n",
              "      <td>2565.612519</td>\n",
              "      <td>1404323</td>\n",
              "      <td>563</td>\n",
              "      <td>20057</td>\n",
              "      <td>967.720642</td>\n",
              "      <td>579.431128</td>\n",
              "      <td>4.473798</td>\n",
              "      <td>0.805680</td>\n",
              "      <td>6.241806</td>\n",
              "      <td>4027</td>\n",
              "      <td>57.643839</td>\n",
              "      <td>3201.293706</td>\n",
              "    </tr>\n",
              "    <tr>\n",
              "      <th>1</th>\n",
              "      <td>739581</td>\n",
              "      <td>10723</td>\n",
              "      <td>1279</td>\n",
              "      <td>102.026750</td>\n",
              "      <td>96.771319</td>\n",
              "      <td>1.537322</td>\n",
              "      <td>1.054358</td>\n",
              "      <td>3.467754</td>\n",
              "      <td>432</td>\n",
              "      <td>11.191686</td>\n",
              "      <td>966.193995</td>\n",
              "      <td>756715</td>\n",
              "      <td>12949</td>\n",
              "      <td>1311</td>\n",
              "      <td>38.260522</td>\n",
              "      <td>10.697567</td>\n",
              "      <td>12.845793</td>\n",
              "      <td>1.584284</td>\n",
              "      <td>12.106662</td>\n",
              "      <td>144</td>\n",
              "      <td>209.717241</td>\n",
              "      <td>21496.565517</td>\n",
              "    </tr>\n",
              "    <tr>\n",
              "      <th>2</th>\n",
              "      <td>3638</td>\n",
              "      <td>3341</td>\n",
              "      <td>85</td>\n",
              "      <td>2.793577</td>\n",
              "      <td>1.402703</td>\n",
              "      <td>2.594089</td>\n",
              "      <td>0.598150</td>\n",
              "      <td>3.802143</td>\n",
              "      <td>11</td>\n",
              "      <td>9.416667</td>\n",
              "      <td>489.083333</td>\n",
              "      <td>488750</td>\n",
              "      <td>320</td>\n",
              "      <td>3673</td>\n",
              "      <td>1207.190077</td>\n",
              "      <td>599.721600</td>\n",
              "      <td>0.842022</td>\n",
              "      <td>0.593199</td>\n",
              "      <td>7.044735</td>\n",
              "      <td>3918</td>\n",
              "      <td>7.859818</td>\n",
              "      <td>637.983300</td>\n",
              "    </tr>\n",
              "    <tr>\n",
              "      <th>3</th>\n",
              "      <td>613</td>\n",
              "      <td>1259</td>\n",
              "      <td>31</td>\n",
              "      <td>1.326041</td>\n",
              "      <td>0.356943</td>\n",
              "      <td>6.249678</td>\n",
              "      <td>2.323064</td>\n",
              "      <td>7.488116</td>\n",
              "      <td>4</td>\n",
              "      <td>5.000000</td>\n",
              "      <td>275.000000</td>\n",
              "      <td>13456</td>\n",
              "      <td>3599</td>\n",
              "      <td>1072</td>\n",
              "      <td>10.300222</td>\n",
              "      <td>3.828561</td>\n",
              "      <td>1.624092</td>\n",
              "      <td>0.100503</td>\n",
              "      <td>1.614287</td>\n",
              "      <td>43</td>\n",
              "      <td>113.840909</td>\n",
              "      <td>2537.772727</td>\n",
              "    </tr>\n",
              "    <tr>\n",
              "      <th>4</th>\n",
              "      <td>1352348</td>\n",
              "      <td>331</td>\n",
              "      <td>15647</td>\n",
              "      <td>19129.848662</td>\n",
              "      <td>14552.733991</td>\n",
              "      <td>2.065418</td>\n",
              "      <td>0.580955</td>\n",
              "      <td>16.281502</td>\n",
              "      <td>52580</td>\n",
              "      <td>3.092448</td>\n",
              "      <td>597.563636</td>\n",
              "      <td>1481379</td>\n",
              "      <td>147521</td>\n",
              "      <td>15043</td>\n",
              "      <td>9902.070379</td>\n",
              "      <td>5012.055876</td>\n",
              "      <td>10.438460</td>\n",
              "      <td>0.100503</td>\n",
              "      <td>193.072418</td>\n",
              "      <td>28564</td>\n",
              "      <td>10.964144</td>\n",
              "      <td>1035.955493</td>\n",
              "    </tr>\n",
              "  </tbody>\n",
              "</table>\n",
              "</div>"
            ],
            "text/plain": [
              "   A_follower_count  ...  B_network_feature_3\n",
              "0            614689  ...          3201.293706\n",
              "1            739581  ...         21496.565517\n",
              "2              3638  ...           637.983300\n",
              "3               613  ...          2537.772727\n",
              "4           1352348  ...          1035.955493\n",
              "\n",
              "[5 rows x 22 columns]"
            ]
          },
          "metadata": {
            "tags": []
          },
          "execution_count": 55
        }
      ]
    },
    {
      "cell_type": "code",
      "metadata": {
        "id": "92d_dts3P1uM",
        "colab_type": "code",
        "colab": {
          "base_uri": "https://localhost:8080/",
          "height": 34
        },
        "outputId": "f208d0aa-7cda-434e-e03c-0b9a380102f8"
      },
      "source": [
        "df_test.shape"
      ],
      "execution_count": 61,
      "outputs": [
        {
          "output_type": "execute_result",
          "data": {
            "text/plain": [
              "(5952, 22)"
            ]
          },
          "metadata": {
            "tags": []
          },
          "execution_count": 61
        }
      ]
    },
    {
      "cell_type": "code",
      "metadata": {
        "id": "TW_n8J5EOkM0",
        "colab_type": "code",
        "colab": {}
      },
      "source": [
        "#we only have to take the dependent variable now as can be seen above"
      ],
      "execution_count": null,
      "outputs": []
    },
    {
      "cell_type": "code",
      "metadata": {
        "id": "4B7dSWtXOude",
        "colab_type": "code",
        "colab": {}
      },
      "source": [
        "x_test=np.zeros((5952,11))\n",
        "for i in range(len(cols_that_Iwant)):\n",
        "  x_test[:,i]=df_test.iloc[:,cols_that_Iwant[i]].values"
      ],
      "execution_count": 62,
      "outputs": []
    },
    {
      "cell_type": "code",
      "metadata": {
        "id": "dbroSIduOuY8",
        "colab_type": "code",
        "colab": {
          "base_uri": "https://localhost:8080/",
          "height": 235
        },
        "outputId": "9e195ecb-fda9-47a2-c6c1-6d660fdeafe6"
      },
      "source": [
        "x_test"
      ],
      "execution_count": 63,
      "outputs": [
        {
          "output_type": "execute_result",
          "data": {
            "text/plain": [
              "array([[6.14689000e+05, 5.72900000e+03, 9.36619224e+00, ...,\n",
              "        8.05680232e-01, 6.24180594e+00, 4.02700000e+03],\n",
              "       [7.39581000e+05, 1.27900000e+03, 1.53732182e+00, ...,\n",
              "        1.58428386e+00, 1.21066616e+01, 1.44000000e+02],\n",
              "       [3.63800000e+03, 8.50000000e+01, 2.59408927e+00, ...,\n",
              "        5.93198607e-01, 7.04473455e+00, 3.91800000e+03],\n",
              "       ...,\n",
              "       [1.61104200e+06, 1.03460000e+04, 2.08696135e+00, ...,\n",
              "        1.12116022e+00, 2.62255029e+00, 5.62000000e+02],\n",
              "       [6.31958000e+05, 7.52200000e+03, 4.05227896e+00, ...,\n",
              "        4.80717981e+00, 8.26206313e+00, 1.20100000e+03],\n",
              "       [2.30784500e+06, 1.25800000e+04, 4.82772048e+00, ...,\n",
              "        1.00503359e-01, 5.55949045e+00, 5.74800000e+03]])"
            ]
          },
          "metadata": {
            "tags": []
          },
          "execution_count": 63
        }
      ]
    },
    {
      "cell_type": "code",
      "metadata": {
        "id": "iS04yR43Enl8",
        "colab_type": "code",
        "colab": {
          "base_uri": "https://localhost:8080/",
          "height": 151
        },
        "outputId": "b27e554c-c4e2-4768-c8e2-5b0d5fd5a8a2"
      },
      "source": [
        "from sklearn.ensemble import RandomForestClassifier\n",
        "classifier=RandomForestClassifier(n_estimators=50,random_state=10)\n",
        "classifier.fit(x1,y) #fitting the model"
      ],
      "execution_count": 52,
      "outputs": [
        {
          "output_type": "execute_result",
          "data": {
            "text/plain": [
              "RandomForestClassifier(bootstrap=True, ccp_alpha=0.0, class_weight=None,\n",
              "                       criterion='gini', max_depth=None, max_features='auto',\n",
              "                       max_leaf_nodes=None, max_samples=None,\n",
              "                       min_impurity_decrease=0.0, min_impurity_split=None,\n",
              "                       min_samples_leaf=1, min_samples_split=2,\n",
              "                       min_weight_fraction_leaf=0.0, n_estimators=50,\n",
              "                       n_jobs=None, oob_score=False, random_state=10, verbose=0,\n",
              "                       warm_start=False)"
            ]
          },
          "metadata": {
            "tags": []
          },
          "execution_count": 52
        }
      ]
    },
    {
      "cell_type": "code",
      "metadata": {
        "id": "uuceIgc0EnjR",
        "colab_type": "code",
        "colab": {
          "base_uri": "https://localhost:8080/",
          "height": 34
        },
        "outputId": "0f996896-33cf-475f-e9e4-d5c160c8eb99"
      },
      "source": [
        "y_pred=classifier.predict(x_test)\n",
        "print(y_pred)"
      ],
      "execution_count": 65,
      "outputs": [
        {
          "output_type": "stream",
          "text": [
            "[0 1 0 ... 1 0 0]\n"
          ],
          "name": "stdout"
        }
      ]
    },
    {
      "cell_type": "code",
      "metadata": {
        "id": "7Xf7InhhS4D_",
        "colab_type": "code",
        "colab": {
          "base_uri": "https://localhost:8080/",
          "height": 151
        },
        "outputId": "2098be8f-885d-4c84-9837-6f20c21cb9f7"
      },
      "source": [
        "df.columns"
      ],
      "execution_count": 67,
      "outputs": [
        {
          "output_type": "execute_result",
          "data": {
            "text/plain": [
              "Index(['Choice', 'A_follower_count', 'A_following_count', 'A_listed_count',\n",
              "       'A_mentions_received', 'A_retweets_received', 'A_mentions_sent',\n",
              "       'A_retweets_sent', 'A_posts', 'A_network_feature_1',\n",
              "       'A_network_feature_2', 'A_network_feature_3', 'B_follower_count',\n",
              "       'B_following_count', 'B_listed_count', 'B_mentions_received',\n",
              "       'B_retweets_received', 'B_mentions_sent', 'B_retweets_sent', 'B_posts',\n",
              "       'B_network_feature_1', 'B_network_feature_2', 'B_network_feature_3'],\n",
              "      dtype='object')"
            ]
          },
          "metadata": {
            "tags": []
          },
          "execution_count": 67
        }
      ]
    },
    {
      "cell_type": "code",
      "metadata": {
        "id": "k-kY65vkSnev",
        "colab_type": "code",
        "colab": {
          "base_uri": "https://localhost:8080/",
          "height": 50
        },
        "outputId": "bd894f98-d2d0-4ff0-bb5f-1753185ca259"
      },
      "source": [
        "#print(df.iloc[:,1])\n",
        "#print(df.iloc[:,12])\n",
        "follower_count=df.iloc[:,1].values+df.iloc[:,12].values\n",
        "print(follower_count)\n",
        "print(len(follower_count))"
      ],
      "execution_count": 78,
      "outputs": [
        {
          "output_type": "stream",
          "text": [
            "[ 34691  60853  10932 ...  22939 587940 504632]\n",
            "5500\n"
          ],
          "name": "stdout"
        }
      ]
    },
    {
      "cell_type": "code",
      "metadata": {
        "id": "MgHHbexQTzZn",
        "colab_type": "code",
        "colab": {
          "base_uri": "https://localhost:8080/",
          "height": 34
        },
        "outputId": "be2dd095-dbb3-4d74-e2a9-8c66df1bbff7"
      },
      "source": [
        "choice=list(df.iloc[:,0])\n",
        "print(len(choice))"
      ],
      "execution_count": 80,
      "outputs": [
        {
          "output_type": "stream",
          "text": [
            "5500\n"
          ],
          "name": "stdout"
        }
      ]
    },
    {
      "cell_type": "code",
      "metadata": {
        "id": "3OcpDbwU1wY8",
        "colab_type": "code",
        "colab": {
          "base_uri": "https://localhost:8080/",
          "height": 295
        },
        "outputId": "488544a5-ae09-4e8b-ae18-f17b0f69a683"
      },
      "source": [
        "import matplotlib.pyplot as plt\n",
        "plt.scatter(follower_count,choice)\n",
        "plt.xlabel('Followers in Millions') \n",
        "#the total followers is the sum of followers all platforms\n",
        "plt.ylabel('Influencer or not')\n",
        "plt.title('Social Media Influencer Analysis')\n",
        "plt.show()"
      ],
      "execution_count": 83,
      "outputs": [
        {
          "output_type": "display_data",
          "data": {
            "image/png": "[encoded data removed]",
            "text/plain": [
              "<Figure size 432x288 with 1 Axes>"
            ]
          },
          "metadata": {
            "tags": [],
            "needs_background": "light"
          }
        }
      ]
    }
  ]
}